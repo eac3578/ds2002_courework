{
 "cells": [
  {
   "cell_type": "code",
   "execution_count": 17,
   "id": "664b4994",
   "metadata": {},
   "outputs": [],
   "source": [
    "import json\n",
    "import requests\n",
    "import pandas as pd\n",
    "from datetime import date\n",
    "import requests.exceptions"
   ]
  },
  {
   "cell_type": "code",
   "execution_count": 18,
   "id": "9a60eff4",
   "metadata": {},
   "outputs": [],
   "source": [
    "def get_api_response(url, response_type,header_v, stockString):\n",
    "    try:\n",
    "        response = requests.request(\"GET\",url,headers=header_v,params=stockString)\n",
    "        response.raise_for_status()\n",
    "    \n",
    "    except requests.exceptions.HTTPError as errh:\n",
    "        return \"An Http Error occurred: \" + repr(errh)\n",
    "    except requests.exceptions.ConnectionError as errc:\n",
    "        return \"An Error Connecting to the API occurred: \" + repr(errc)\n",
    "    except requests.exceptions.Timeout as errt:\n",
    "        return \"A Timeout Error occurred: \" + repr(errt)\n",
    "    except requests.exceptions.RequestException as err:\n",
    "        return \"An Unknown Error occurred: \" + repr(err)"
   ]
  },
  {
   "cell_type": "code",
   "execution_count": 19,
   "id": "2faa3697",
   "metadata": {
    "scrolled": false
   },
   "outputs": [
    {
     "name": "stdout",
     "output_type": "stream",
     "text": [
      "MO\n"
     ]
    }
   ],
   "source": [
    "#get user input with name ticker\n",
    "stock = input()\n",
    "#stock\n",
    "#print(stock)"
   ]
  },
  {
   "cell_type": "code",
   "execution_count": 20,
   "id": "95ae19cd",
   "metadata": {},
   "outputs": [],
   "source": [
    "#baseUrl https://query1.finance.yahoo.com/v7/finance/quote\n",
    "urlQuote = 'https://query1.finance.yahoo.com/v7/finance/quote'\n",
    "queryString = {\"symbols\":stock}\n",
    "#print(queryString)"
   ]
  },
  {
   "cell_type": "code",
   "execution_count": 21,
   "id": "c6b46d60",
   "metadata": {},
   "outputs": [],
   "source": [
    "header_var ={\n",
    "    'User-Agent': 'Mozilla/5.0 (Macintosh; Intel Mac OS X 10_10_1) AppleWebKit/537.36 (KHTML, like Gecko) Chrome/39.0.2171.95 Safari/537.36'}\n",
    "#response.content"
   ]
  },
  {
   "cell_type": "code",
   "execution_count": 22,
   "id": "2e7340d3",
   "metadata": {},
   "outputs": [
    {
     "name": "stdout",
     "output_type": "stream",
     "text": [
      "None\n"
     ]
    }
   ],
   "source": [
    "#check if there's any error with the stock that was entered\n",
    "valid_url = 'https://query1.finance.yahoo.com/v7/finance/quote'\n",
    "response_type = ['json', 'dataframe']\n",
    "string_result = get_api_response(valid_url, response_type[1], header_var, queryString)\n",
    "print(string_result)"
   ]
  },
  {
   "cell_type": "code",
   "execution_count": 23,
   "id": "5bde3649",
   "metadata": {},
   "outputs": [],
   "source": [
    "response = requests.request(\"GET\",urlQuote,headers=header_var,params=queryString)"
   ]
  },
  {
   "cell_type": "code",
   "execution_count": 24,
   "id": "00484c54",
   "metadata": {
    "scrolled": true
   },
   "outputs": [],
   "source": [
    "stock_json = response.json()\n",
    "#stock_json"
   ]
  },
  {
   "cell_type": "code",
   "execution_count": 25,
   "id": "816812a5",
   "metadata": {
    "scrolled": true
   },
   "outputs": [],
   "source": [
    "fullName = stock_json['quoteResponse']['result'][0]['longName']\n"
   ]
  },
  {
   "cell_type": "code",
   "execution_count": 26,
   "id": "4b5c458b",
   "metadata": {},
   "outputs": [],
   "source": [
    "url3 = \"https://query1.finance.yahoo.com/v10/finance/quoteSummary/\"\n",
    "query_str2 = {\"symbol\": stock, \"modules\":\"financialData\"}\n",
    "response = requests.request(\"GET\",url3,headers=header_var,params=query_str2)\n",
    "\n",
    "stock_json = response.json()\n",
    "\n",
    "#stock_json"
   ]
  },
  {
   "cell_type": "code",
   "execution_count": 27,
   "id": "1bd2339c",
   "metadata": {},
   "outputs": [],
   "source": [
    "currentPrice = stock_json['quoteSummary']['result'][0]['financialData']['currentPrice']['fmt']\n",
    "targetMeanPrice = stock_json['quoteSummary']['result'][0]['financialData']['targetMeanPrice']['fmt']\n",
    "cashOnHand = stock_json['quoteSummary']['result'][0]['financialData']['totalCash']['fmt']"
   ]
  },
  {
   "cell_type": "code",
   "execution_count": 28,
   "id": "995b7164",
   "metadata": {},
   "outputs": [],
   "source": [
    "#https://query1.finance.yahoo.com/v10/finance/quoteSummary\n",
    "url2 = \"https://query1.finance.yahoo.com/v10/finance/quoteSummary/\"\n",
    "query_str = {\"symbol\": stock, \"modules\":\"defaultKeyStatistics\"}\n",
    "response = requests.request(\"GET\",url2,headers=header_var,params=query_str)\n",
    "\n",
    "stock_json = response.json()\n",
    "\n",
    "#stock_json"
   ]
  },
  {
   "cell_type": "code",
   "execution_count": 29,
   "id": "5dea4ffb",
   "metadata": {},
   "outputs": [],
   "source": [
    "profitMargins = stock_json['quoteSummary']['result'][0]['defaultKeyStatistics']['profitMargins']['fmt']"
   ]
  },
  {
   "cell_type": "code",
   "execution_count": 30,
   "id": "a000b371",
   "metadata": {
    "scrolled": true
   },
   "outputs": [
    {
     "name": "stdout",
     "output_type": "stream",
     "text": [
      "Name Ticker: MO  Full Name of the Stock: Altria Group, Inc.  Current Price: 45.23  Target Mean Price: 48.57  Cash on Hand: 2.57B  Profit Margins: 8.45%\n"
     ]
    }
   ],
   "source": [
    "print( \"Name Ticker:\",stock,\" Full Name of the Stock:\", fullName,\" Current Price:\", currentPrice, \" Target Mean Price:\",targetMeanPrice, \" Cash on Hand:\",cashOnHand, \" Profit Margins:\",profitMargins)"
   ]
  },
  {
   "cell_type": "code",
   "execution_count": 31,
   "id": "108e22e9",
   "metadata": {},
   "outputs": [],
   "source": [
    "data_pulled = str(date.today())\n",
    "dictionary = {'Date':data_pulled,'Name Ticker':stock,'Full Name of the Stock': fullName,'Current Price': currentPrice,'Target Mean Price': targetMeanPrice,'Cash on Hand': cashOnHand, 'Profit Margins': profitMargins}\n",
    "dictionary\n",
    "dict_json = json.dumps(dictionary, indent = 7)"
   ]
  },
  {
   "cell_type": "code",
   "execution_count": 32,
   "id": "e5574847",
   "metadata": {},
   "outputs": [],
   "source": [
    "with open(\"Results.json\", \"w\") as outfile:\n",
    "    outfile.write(dict_json,)"
   ]
  }
 ],
 "metadata": {
  "kernelspec": {
   "display_name": "Python 3 (ipykernel)",
   "language": "python",
   "name": "python3"
  },
  "language_info": {
   "codemirror_mode": {
    "name": "ipython",
    "version": 3
   },
   "file_extension": ".py",
   "mimetype": "text/x-python",
   "name": "python",
   "nbconvert_exporter": "python",
   "pygments_lexer": "ipython3",
   "version": "3.9.7"
  }
 },
 "nbformat": 4,
 "nbformat_minor": 5
}
