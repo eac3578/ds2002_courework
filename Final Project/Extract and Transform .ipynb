{
 "cells": [
  {
   "cell_type": "code",
   "execution_count": null,
   "id": "e7a50c2b",
   "metadata": {},
   "outputs": [],
   "source": [
    "# Emma Abraham (ea7ga) and Andrew Chaphiv (ac2gq)\n",
    "#Accessing the Kaggle dataset without having to download the dataset outside of the script\n",
    "#Method implementation source: https://medium.com/analytics-vidhya/fetch-data-from-kaggle-with-python-9154a4c610e3\n",
    "#https://towardsdatascience.com/downloading-datasets-from-kaggle-for-your-ml-project-b9120d405ea4\n",
    "#Dataset: https://www.kaggle.com/datasets/thedevastator/the-ultimate-netflix-tv-shows-and-movies-dataset\n",
    "#Install kaggle to access the Kaggle Api and the package dfply if you do not already have them downloaded\n",
    "#! pip install kaggle\n",
    "# ! pip3 install dfply\n",
    "#! pip3 install pymongo"
   ]
  },
  {
   "cell_type": "code",
   "execution_count": 1,
   "id": "ca01a95e",
   "metadata": {},
   "outputs": [],
   "source": [
    "#Import necessary packages/libraries\n",
    "import pandas as pd\n",
    "import numpy as np\n",
    "import pymongo\n",
    "import pprint\n",
    "from zipfile import ZipFile"
   ]
  },
  {
   "cell_type": "code",
   "execution_count": null,
   "id": "5218cf72",
   "metadata": {},
   "outputs": [],
   "source": [
    "#Used an API token to connect to kaggle to download the dataset\n",
    "from kaggle.api.kaggle_api_extended import KaggleApi\n",
    "#Follow the directions on this website: https://www.kaggle.com/docs/api and this website: https://medium.com/analytics-vidhya/fetch-data-from-kaggle-with-python-9154a4c610e3\n",
    "#To create kaggle authentication tokens to access kaggle easily. \n",
    "api = KaggleApi()\n",
    "api.authenticate()\n",
    "#Download the kaggle dataset files by using the kaggle api\n",
    "#to find the name and file name for the kaggle command, select copy the api command from the drop down\n",
    "api.dataset_download_files('thedevastator/the-ultimate-netflix-tv-shows-and-movies-dataset')"
   ]
  },
  {
   "cell_type": "code",
   "execution_count": null,
   "id": "6f1da9d5",
   "metadata": {},
   "outputs": [],
   "source": [
    "#Extract the files from the zip\n",
    "zipFile = ZipFile('the-ultimate-netflix-tv-shows-and-movies-dataset.zip')\n",
    "zipFile.extract('Best Movies Netflix.csv') #Extract only the files we need from zip file\n",
    "zipFile.extract('Best Shows Netflix.csv')\n",
    "zipFile.close()\n",
    "#Now all the files are available in the same directory as this script in .csv format "
   ]
  },
  {
   "cell_type": "code",
   "execution_count": null,
   "id": "7b5faa5c",
   "metadata": {},
   "outputs": [],
   "source": [
    "#Alternative method for getting the CSV files: \n",
    "#download the files: 'Best Movies Netflix.csv' and 'Best Shows Netflix.csv' to the same folder as this script \n",
    "#And comment out the two previous chunks"
   ]
  },
  {
   "cell_type": "code",
   "execution_count": 3,
   "id": "650a675c",
   "metadata": {},
   "outputs": [],
   "source": [
    "#Part 1: Extract and Transform the data\n",
    "#Read in our datasets \n",
    "movies = pd.read_csv('Best Movies Netflix.csv')\n",
    "shows = pd.read_csv('Best Shows Netflix.csv')\n",
    "#drop unused columns\n",
    "movies.drop(['index','NUMBER_OF_VOTES','MAIN_PRODUCTION'],axis=1, inplace= True)\n",
    "movies[\"Type\"] = \"Movie\"\n",
    "shows.drop(['index','NUMBER_OF_VOTES','NUMBER_OF_SEASONS','MAIN_PRODUCTION'],axis=1, inplace= True)\n",
    "shows[\"Type\"] = \"Show\"\n",
    "#combine movie and show data \n",
    "new_dataset = pd.concat([movies, shows],axis=0)"
   ]
  },
  {
   "cell_type": "code",
   "execution_count": 4,
   "id": "205602f8",
   "metadata": {
    "scrolled": true
   },
   "outputs": [
    {
     "name": "stdout",
     "output_type": "stream",
     "text": [
      "Local Connection String: mongodb://localhost:27017/\n"
     ]
    }
   ],
   "source": [
    "#Part 2: Load the Data into MongoDB\n",
    "\n",
    "#Connect to Mongodb and create local instance of db\n",
    "#Reference: https://github.com/jasonwnc/ds2002-1/blob/main/nosql/06-Python-MongoDB.ipynb\n",
    "host_name = \"localhost\"\n",
    "port = \"27017\"\n",
    "\n",
    "atlas_cluster_name = \"sandbox\"\n",
    "atlas_default_dbname = \"local\"\n",
    "#atlas_user_name = \"m001-student\"\n",
    "#atlas_password = \"m001-mongodb-basics\"\n",
    "conn_str = {\n",
    "    \"local\" : f\"mongodb://{host_name}:{port}/\",\n",
    "#    \"atlas\" : f\"mongodb+srv://{atlas_user_name}:{atlas_password}@{atlas_cluster_name}.zibbf.mongodb.net/{atlas_default_dbname}\"\n",
    "}\n",
    "\n",
    "client = pymongo.MongoClient(conn_str[\"local\"])\n",
    "\n",
    "print(f\"Local Connection String: {conn_str['local']}\")\n",
    "#print(f\"Atlas Connection String: {conn_str['atlas']}\")"
   ]
  },
  {
   "cell_type": "code",
   "execution_count": 58,
   "id": "ac4383f6",
   "metadata": {
    "scrolled": true
   },
   "outputs": [],
   "source": [
    "db_name = \"chatBoxResponses\"\n",
    "\n",
    "db = client[db_name]\n",
    "m_collection = db[\"Media\"]"
   ]
  },
  {
   "cell_type": "code",
   "execution_count": 67,
   "id": "bf4d7753-5d72-4006-bb99-a649b3dfb4c1",
   "metadata": {},
   "outputs": [
    {
     "data": {
      "text/plain": [
       "{'_id': ObjectId('639aa9c65df88bf2596da85d'),\n",
       " 'TITLE': 'Django Unchained',\n",
       " 'RELEASE_YEAR': 2012,\n",
       " 'SCORE': 8.4,\n",
       " 'DURATION': 165,\n",
       " 'MAIN_GENRE': 'western',\n",
       " 'Type': 'Movie'}"
      ]
     },
     "execution_count": 67,
     "metadata": {},
     "output_type": "execute_result"
    }
   ],
   "source": [
    "result = m_collection.find({'RELEASE_YEAR':2022-10,\"Type\": \"Movie\"})\n",
    "result[0]"
   ]
  },
  {
   "cell_type": "code",
   "execution_count": 8,
   "id": "545160cf",
   "metadata": {},
   "outputs": [],
   "source": [
    "new_dictionary = new_dataset.to_dict('records')"
   ]
  },
  {
   "cell_type": "code",
   "execution_count": 9,
   "id": "1f86b10c",
   "metadata": {},
   "outputs": [],
   "source": [
    "x = m_collection.insert_many(new_dictionary)"
   ]
  },
  {
   "cell_type": "code",
   "execution_count": null,
   "id": "d0cd4ec4",
   "metadata": {
    "tags": []
   },
   "outputs": [],
   "source": [
    "#for index in new_dictionary.index:\n",
    "#    media = {\"Title\": new_dictionary[\"TITLE\"][index],\n",
    "#        \"Release Year\": new_dictionary[\"RELEASE_YEAR\"][index],\n",
    "#        \"Score\": new_dictionary[\"SCORE\"][index],\n",
    "#        \"Duration\": new_dictionary[\"DURATI E\"][index],\n",
    "#        \"Media Type\": new_dictionary[\"Type\"][index]\n",
    "#       }\n",
    "#    x = m_collection.insert_one(media)"
   ]
  }
 ],
 "metadata": {
  "kernelspec": {
   "display_name": "Python 3 (ipykernel)",
   "language": "python",
   "name": "python3"
  },
  "language_info": {
   "codemirror_mode": {
    "name": "ipython",
    "version": 3
   },
   "file_extension": ".py",
   "mimetype": "text/x-python",
   "name": "python",
   "nbconvert_exporter": "python",
   "pygments_lexer": "ipython3",
   "version": "3.9.7"
  }
 },
 "nbformat": 4,
 "nbformat_minor": 5
}
